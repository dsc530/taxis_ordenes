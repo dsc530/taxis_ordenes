{
 "cells": [
  {
   "cell_type": "markdown",
   "metadata": {},
   "source": [
    "# Descripción del proyecto\n",
    "\n",
    "La compañía Sweet Lift Taxi ha recopilado datos históricos sobre pedidos de taxis en los aeropuertos. Para atraer a más conductores durante las horas pico, necesitamos predecir la cantidad de pedidos de taxis para la próxima hora. Construye un modelo para dicha predicción.\n",
    "\n",
    "La métrica RECM en el conjunto de prueba no debe ser superior a 48.\n",
    "\n",
    "## Descripción de los datos\n",
    "\n",
    "Los datos se almacenan en el archivo `taxi.csv`. \t\n",
    "El número de pedidos está en la columna `num_orders`."
   ]
  },
  {
   "cell_type": "markdown",
   "metadata": {},
   "source": [
    "## Preparación"
   ]
  },
  {
   "cell_type": "markdown",
   "metadata": {},
   "source": [
    "### Librerías"
   ]
  },
  {
   "cell_type": "code",
   "execution_count": 1,
   "metadata": {},
   "outputs": [],
   "source": [
    "import pandas as pd\n",
    "import numpy as np\n",
    "import matplotlib.pyplot as plt\n",
    "\n",
    "from sklearn.model_selection import train_test_split\n",
    "from sklearn.metrics import mean_squared_error\n",
    "from sklearn.linear_model import LinearRegression\n",
    "from sklearn.ensemble import RandomForestRegressor\n",
    "\n",
    "from statsmodels.tsa.stattools import adfuller\n",
    "from statsmodels.tsa.stattools import pacf\n",
    "\n",
    "from lightgbm import LGBMRegressor\n",
    "from catboost import CatBoostRegressor"
   ]
  },
  {
   "cell_type": "markdown",
   "metadata": {},
   "source": [
    "### Importación de Datos"
   ]
  },
  {
   "cell_type": "code",
   "execution_count": null,
   "metadata": {},
   "outputs": [
    {
     "name": "stdout",
     "output_type": "stream",
     "text": [
      "<class 'pandas.core.frame.DataFrame'>\n",
      "DatetimeIndex: 26496 entries, 2018-03-01 00:00:00 to 2018-08-31 23:50:00\n",
      "Data columns (total 1 columns):\n",
      " #   Column      Non-Null Count  Dtype\n",
      "---  ------      --------------  -----\n",
      " 0   num_orders  26496 non-null  int64\n",
      "dtypes: int64(1)\n",
      "memory usage: 414.0 KB\n"
     ]
    }
   ],
   "source": [
    "df=pd.read_csv('taxi.csv',index_col=[0],parse_dates=True)\n",
    "df.info()"
   ]
  },
  {
   "cell_type": "code",
   "execution_count": 3,
   "metadata": {},
   "outputs": [
    {
     "data": {
      "text/html": [
       "<div>\n",
       "<style scoped>\n",
       "    .dataframe tbody tr th:only-of-type {\n",
       "        vertical-align: middle;\n",
       "    }\n",
       "\n",
       "    .dataframe tbody tr th {\n",
       "        vertical-align: top;\n",
       "    }\n",
       "\n",
       "    .dataframe thead th {\n",
       "        text-align: right;\n",
       "    }\n",
       "</style>\n",
       "<table border=\"1\" class=\"dataframe\">\n",
       "  <thead>\n",
       "    <tr style=\"text-align: right;\">\n",
       "      <th></th>\n",
       "      <th>num_orders</th>\n",
       "    </tr>\n",
       "    <tr>\n",
       "      <th>datetime</th>\n",
       "      <th></th>\n",
       "    </tr>\n",
       "  </thead>\n",
       "  <tbody>\n",
       "    <tr>\n",
       "      <th>2018-03-01 00:00:00</th>\n",
       "      <td>9</td>\n",
       "    </tr>\n",
       "    <tr>\n",
       "      <th>2018-03-01 00:10:00</th>\n",
       "      <td>14</td>\n",
       "    </tr>\n",
       "    <tr>\n",
       "      <th>2018-03-01 00:20:00</th>\n",
       "      <td>28</td>\n",
       "    </tr>\n",
       "    <tr>\n",
       "      <th>2018-03-01 00:30:00</th>\n",
       "      <td>20</td>\n",
       "    </tr>\n",
       "    <tr>\n",
       "      <th>2018-03-01 00:40:00</th>\n",
       "      <td>32</td>\n",
       "    </tr>\n",
       "    <tr>\n",
       "      <th>2018-03-01 00:50:00</th>\n",
       "      <td>21</td>\n",
       "    </tr>\n",
       "    <tr>\n",
       "      <th>2018-03-01 01:00:00</th>\n",
       "      <td>7</td>\n",
       "    </tr>\n",
       "    <tr>\n",
       "      <th>2018-03-01 01:10:00</th>\n",
       "      <td>5</td>\n",
       "    </tr>\n",
       "    <tr>\n",
       "      <th>2018-03-01 01:20:00</th>\n",
       "      <td>17</td>\n",
       "    </tr>\n",
       "    <tr>\n",
       "      <th>2018-03-01 01:30:00</th>\n",
       "      <td>12</td>\n",
       "    </tr>\n",
       "  </tbody>\n",
       "</table>\n",
       "</div>"
      ],
      "text/plain": [
       "                     num_orders\n",
       "datetime                       \n",
       "2018-03-01 00:00:00           9\n",
       "2018-03-01 00:10:00          14\n",
       "2018-03-01 00:20:00          28\n",
       "2018-03-01 00:30:00          20\n",
       "2018-03-01 00:40:00          32\n",
       "2018-03-01 00:50:00          21\n",
       "2018-03-01 01:00:00           7\n",
       "2018-03-01 01:10:00           5\n",
       "2018-03-01 01:20:00          17\n",
       "2018-03-01 01:30:00          12"
      ]
     },
     "execution_count": 3,
     "metadata": {},
     "output_type": "execute_result"
    }
   ],
   "source": [
    "df.head(10)"
   ]
  },
  {
   "cell_type": "code",
   "execution_count": 4,
   "metadata": {},
   "outputs": [
    {
     "data": {
      "text/html": [
       "<div>\n",
       "<style scoped>\n",
       "    .dataframe tbody tr th:only-of-type {\n",
       "        vertical-align: middle;\n",
       "    }\n",
       "\n",
       "    .dataframe tbody tr th {\n",
       "        vertical-align: top;\n",
       "    }\n",
       "\n",
       "    .dataframe thead th {\n",
       "        text-align: right;\n",
       "    }\n",
       "</style>\n",
       "<table border=\"1\" class=\"dataframe\">\n",
       "  <thead>\n",
       "    <tr style=\"text-align: right;\">\n",
       "      <th></th>\n",
       "      <th>num_orders</th>\n",
       "    </tr>\n",
       "    <tr>\n",
       "      <th>datetime</th>\n",
       "      <th></th>\n",
       "    </tr>\n",
       "  </thead>\n",
       "  <tbody>\n",
       "    <tr>\n",
       "      <th>2018-03-01 00:00:00</th>\n",
       "      <td>124</td>\n",
       "    </tr>\n",
       "    <tr>\n",
       "      <th>2018-03-01 01:00:00</th>\n",
       "      <td>85</td>\n",
       "    </tr>\n",
       "    <tr>\n",
       "      <th>2018-03-01 02:00:00</th>\n",
       "      <td>71</td>\n",
       "    </tr>\n",
       "    <tr>\n",
       "      <th>2018-03-01 03:00:00</th>\n",
       "      <td>66</td>\n",
       "    </tr>\n",
       "    <tr>\n",
       "      <th>2018-03-01 04:00:00</th>\n",
       "      <td>43</td>\n",
       "    </tr>\n",
       "    <tr>\n",
       "      <th>...</th>\n",
       "      <td>...</td>\n",
       "    </tr>\n",
       "    <tr>\n",
       "      <th>2018-08-31 19:00:00</th>\n",
       "      <td>136</td>\n",
       "    </tr>\n",
       "    <tr>\n",
       "      <th>2018-08-31 20:00:00</th>\n",
       "      <td>154</td>\n",
       "    </tr>\n",
       "    <tr>\n",
       "      <th>2018-08-31 21:00:00</th>\n",
       "      <td>159</td>\n",
       "    </tr>\n",
       "    <tr>\n",
       "      <th>2018-08-31 22:00:00</th>\n",
       "      <td>223</td>\n",
       "    </tr>\n",
       "    <tr>\n",
       "      <th>2018-08-31 23:00:00</th>\n",
       "      <td>205</td>\n",
       "    </tr>\n",
       "  </tbody>\n",
       "</table>\n",
       "<p>4416 rows × 1 columns</p>\n",
       "</div>"
      ],
      "text/plain": [
       "                     num_orders\n",
       "datetime                       \n",
       "2018-03-01 00:00:00         124\n",
       "2018-03-01 01:00:00          85\n",
       "2018-03-01 02:00:00          71\n",
       "2018-03-01 03:00:00          66\n",
       "2018-03-01 04:00:00          43\n",
       "...                         ...\n",
       "2018-08-31 19:00:00         136\n",
       "2018-08-31 20:00:00         154\n",
       "2018-08-31 21:00:00         159\n",
       "2018-08-31 22:00:00         223\n",
       "2018-08-31 23:00:00         205\n",
       "\n",
       "[4416 rows x 1 columns]"
      ]
     },
     "execution_count": 4,
     "metadata": {},
     "output_type": "execute_result"
    }
   ],
   "source": [
    "#Agrupación de pedidos por cada hora\n",
    "df_hora = df.resample('1H').sum()\n",
    "df_hora"
   ]
  },
  {
   "cell_type": "markdown",
   "metadata": {},
   "source": [
    "## Análisis"
   ]
  },
  {
   "cell_type": "markdown",
   "metadata": {},
   "source": [
    "### Análisis de Estacionareidad "
   ]
  },
  {
   "cell_type": "markdown",
   "metadata": {},
   "source": [
    "**Gráfico Serie Pura**"
   ]
  },
  {
   "cell_type": "code",
   "execution_count": 5,
   "metadata": {},
   "outputs": [
    {
     "data": {
      "image/png": "[encoded data removed]",
      "text/plain": [
       "<Figure size 1000x400 with 1 Axes>"
      ]
     },
     "metadata": {},
     "output_type": "display_data"
    }
   ],
   "source": [
    "df_hora.plot(figsize=[10,4],legend='')\n",
    "plt.title('Orders By Hour')\n",
    "plt.xlabel('Date')\n",
    "plt.ylabel('Orders')\n",
    "plt.show()"
   ]
  },
  {
   "cell_type": "markdown",
   "metadata": {},
   "source": [
    "**Gráfico Media de los Pedidos**"
   ]
  },
  {
   "cell_type": "code",
   "execution_count": 6,
   "metadata": {},
   "outputs": [
    {
     "data": {
      "image/png": "[encoded data removed]",
      "text/plain": [
       "<Figure size 1000x400 with 1 Axes>"
      ]
     },
     "metadata": {},
     "output_type": "display_data"
    }
   ],
   "source": [
    "df_hora.rolling(24).mean().plot(legend='',figsize=[10,4])\n",
    "plt.title('Moving Average (24)')\n",
    "plt.xlabel('Date')\n",
    "plt.ylabel('Mean')\n",
    "plt.show()"
   ]
  },
  {
   "cell_type": "markdown",
   "metadata": {},
   "source": [
    "**Gráfico Desviación Estándar de los Pedidos**"
   ]
  },
  {
   "cell_type": "code",
   "execution_count": 7,
   "metadata": {},
   "outputs": [
    {
     "data": {
      "image/png": "[encoded data removed]",
      "text/plain": [
       "<Figure size 1000x400 with 1 Axes>"
      ]
     },
     "metadata": {},
     "output_type": "display_data"
    }
   ],
   "source": [
    "df_hora.rolling(24).std().plot(legend='',figsize=[10,4])\n",
    "plt.title('Moving STD (24)')\n",
    "plt.xlabel('Date')\n",
    "plt.ylabel('STD')\n",
    "plt.show()"
   ]
  },
  {
   "cell_type": "markdown",
   "metadata": {},
   "source": [
    "- Tomamos en cuenta las 24 horas (1 día) anteriores en la media y desviación móviles.\n",
    "- Mirando las gráficas de los datos de órdenes, parece que la media va en aumento a medida que avanza el año.\n",
    "- De igual forma, parece ser que la varianza crece en el mes de agosto.\n",
    "- Aunque lo sugieren las gráficas, no podemos afirmar con toda certeza que la serie no es estacionaria."
   ]
  },
  {
   "cell_type": "markdown",
   "metadata": {},
   "source": [
    "**Comprobación Estadística Dickey - Fuller**"
   ]
  },
  {
   "cell_type": "markdown",
   "metadata": {},
   "source": [
    "Vamos a plantear una prueba de hipótesis donde:\n",
    "- H0 (Hipótesis Nula): La serie no es estacionaria\n",
    "- H1 (Hipótesis Alternativa): La serie es estacionaria"
   ]
  },
  {
   "cell_type": "code",
   "execution_count": 8,
   "metadata": {},
   "outputs": [
    {
     "name": "stdout",
     "output_type": "stream",
     "text": [
      "El valor p es: 2.89%\n",
      "Se rechaza la hipótesis nula, La serie se puede considerar estacionaria\n"
     ]
    }
   ],
   "source": [
    "#Ejecución test Dickey-Fuller\n",
    "p_value = adfuller(df_hora)[1]\n",
    "\n",
    "print(f\"El valor p es: {p_value:.2%}\")\n",
    "\n",
    "if p_value < 0.05:\n",
    "    print('Se rechaza la hipótesis nula, La serie se puede considerar estacionaria')\n",
    "else:\n",
    "    print('No se puede rechazar la hipótesis nula, La serie se puede considerar no estacionaria')"
   ]
  },
  {
   "cell_type": "markdown",
   "metadata": {},
   "source": [
    "### Autocorrelación"
   ]
  },
  {
   "cell_type": "code",
   "execution_count": 9,
   "metadata": {
    "scrolled": true
   },
   "outputs": [
    {
     "data": {
      "image/png": "[encoded data removed]",
      "text/plain": [
       "<Figure size 640x480 with 1 Axes>"
      ]
     },
     "metadata": {},
     "output_type": "display_data"
    }
   ],
   "source": [
    "#Cálculo de la autocorrelación\n",
    "acp = pacf(df_hora, nlags = 24)\n",
    "plt.bar(x=range(25), height=acp)\n",
    "plt.grid()\n",
    "plt.title('Partial Autocorrelation ')\n",
    "plt.xlabel('Lag')\n",
    "plt.ylabel('ACP')\n",
    "plt.show()"
   ]
  },
  {
   "cell_type": "markdown",
   "metadata": {},
   "source": [
    "- Se realizó un análisis de auto correlación para determinar el grado en el que los días pasados pueden predecir el día actual.\n",
    "- Se evidencia que el día anterior tiene la mayor auto correlación, con un valor de 0.6.\n",
    "- El resto de días parecen tener un nivel muy bajo, aunque los días del 22 a 24 pasados tiene un nivel un poco superior(0.3) que podría ser relevante.\n",
    "- Con este análisis se determina cantidad de atributos que se van a generar para ayudar a entrenar el modelo."
   ]
  },
  {
   "cell_type": "markdown",
   "metadata": {},
   "source": [
    "## Formación"
   ]
  },
  {
   "cell_type": "code",
   "execution_count": 10,
   "metadata": {},
   "outputs": [],
   "source": [
    "#Generación de una copia para que sea modificada\n",
    "df_hora2 = df_hora.copy()"
   ]
  },
  {
   "cell_type": "markdown",
   "metadata": {},
   "source": [
    "### Generación Media Movil"
   ]
  },
  {
   "cell_type": "code",
   "execution_count": 11,
   "metadata": {},
   "outputs": [
    {
     "data": {
      "image/png": "[encoded data removed]",
      "text/plain": [
       "<Figure size 1000x400 with 1 Axes>"
      ]
     },
     "metadata": {},
     "output_type": "display_data"
    }
   ],
   "source": [
    "#Adicionar media movil de ventana 10\n",
    "df_hora2['media']=df_hora2.shift().rolling(10).mean()\n",
    "df_hora2.plot(color=('blue','skyblue'),figsize=[10,4])\n",
    "plt.title('Moving Average (10)')\n",
    "plt.ylabel('')\n",
    "plt.xlabel('Date')\n",
    "plt.show()"
   ]
  },
  {
   "cell_type": "markdown",
   "metadata": {},
   "source": [
    "### Inclusión Datos de Fecha"
   ]
  },
  {
   "cell_type": "code",
   "execution_count": 12,
   "metadata": {
    "scrolled": true
   },
   "outputs": [
    {
     "data": {
      "text/html": [
       "<div>\n",
       "<style scoped>\n",
       "    .dataframe tbody tr th:only-of-type {\n",
       "        vertical-align: middle;\n",
       "    }\n",
       "\n",
       "    .dataframe tbody tr th {\n",
       "        vertical-align: top;\n",
       "    }\n",
       "\n",
       "    .dataframe thead th {\n",
       "        text-align: right;\n",
       "    }\n",
       "</style>\n",
       "<table border=\"1\" class=\"dataframe\">\n",
       "  <thead>\n",
       "    <tr style=\"text-align: right;\">\n",
       "      <th></th>\n",
       "      <th>num_orders</th>\n",
       "      <th>media</th>\n",
       "      <th>month</th>\n",
       "      <th>day</th>\n",
       "      <th>hour</th>\n",
       "    </tr>\n",
       "    <tr>\n",
       "      <th>datetime</th>\n",
       "      <th></th>\n",
       "      <th></th>\n",
       "      <th></th>\n",
       "      <th></th>\n",
       "      <th></th>\n",
       "    </tr>\n",
       "  </thead>\n",
       "  <tbody>\n",
       "    <tr>\n",
       "      <th>2018-03-01 00:00:00</th>\n",
       "      <td>124</td>\n",
       "      <td>NaN</td>\n",
       "      <td>3</td>\n",
       "      <td>1</td>\n",
       "      <td>0</td>\n",
       "    </tr>\n",
       "    <tr>\n",
       "      <th>2018-03-01 01:00:00</th>\n",
       "      <td>85</td>\n",
       "      <td>NaN</td>\n",
       "      <td>3</td>\n",
       "      <td>1</td>\n",
       "      <td>1</td>\n",
       "    </tr>\n",
       "    <tr>\n",
       "      <th>2018-03-01 02:00:00</th>\n",
       "      <td>71</td>\n",
       "      <td>NaN</td>\n",
       "      <td>3</td>\n",
       "      <td>1</td>\n",
       "      <td>2</td>\n",
       "    </tr>\n",
       "    <tr>\n",
       "      <th>2018-03-01 03:00:00</th>\n",
       "      <td>66</td>\n",
       "      <td>NaN</td>\n",
       "      <td>3</td>\n",
       "      <td>1</td>\n",
       "      <td>3</td>\n",
       "    </tr>\n",
       "    <tr>\n",
       "      <th>2018-03-01 04:00:00</th>\n",
       "      <td>43</td>\n",
       "      <td>NaN</td>\n",
       "      <td>3</td>\n",
       "      <td>1</td>\n",
       "      <td>4</td>\n",
       "    </tr>\n",
       "    <tr>\n",
       "      <th>2018-03-01 05:00:00</th>\n",
       "      <td>6</td>\n",
       "      <td>NaN</td>\n",
       "      <td>3</td>\n",
       "      <td>1</td>\n",
       "      <td>5</td>\n",
       "    </tr>\n",
       "    <tr>\n",
       "      <th>2018-03-01 06:00:00</th>\n",
       "      <td>12</td>\n",
       "      <td>NaN</td>\n",
       "      <td>3</td>\n",
       "      <td>1</td>\n",
       "      <td>6</td>\n",
       "    </tr>\n",
       "    <tr>\n",
       "      <th>2018-03-01 07:00:00</th>\n",
       "      <td>15</td>\n",
       "      <td>NaN</td>\n",
       "      <td>3</td>\n",
       "      <td>1</td>\n",
       "      <td>7</td>\n",
       "    </tr>\n",
       "    <tr>\n",
       "      <th>2018-03-01 08:00:00</th>\n",
       "      <td>34</td>\n",
       "      <td>NaN</td>\n",
       "      <td>3</td>\n",
       "      <td>1</td>\n",
       "      <td>8</td>\n",
       "    </tr>\n",
       "    <tr>\n",
       "      <th>2018-03-01 09:00:00</th>\n",
       "      <td>69</td>\n",
       "      <td>NaN</td>\n",
       "      <td>3</td>\n",
       "      <td>1</td>\n",
       "      <td>9</td>\n",
       "    </tr>\n",
       "    <tr>\n",
       "      <th>2018-03-01 10:00:00</th>\n",
       "      <td>64</td>\n",
       "      <td>52.5</td>\n",
       "      <td>3</td>\n",
       "      <td>1</td>\n",
       "      <td>10</td>\n",
       "    </tr>\n",
       "    <tr>\n",
       "      <th>2018-03-01 11:00:00</th>\n",
       "      <td>96</td>\n",
       "      <td>46.5</td>\n",
       "      <td>3</td>\n",
       "      <td>1</td>\n",
       "      <td>11</td>\n",
       "    </tr>\n",
       "    <tr>\n",
       "      <th>2018-03-01 12:00:00</th>\n",
       "      <td>30</td>\n",
       "      <td>47.6</td>\n",
       "      <td>3</td>\n",
       "      <td>1</td>\n",
       "      <td>12</td>\n",
       "    </tr>\n",
       "    <tr>\n",
       "      <th>2018-03-01 13:00:00</th>\n",
       "      <td>32</td>\n",
       "      <td>43.5</td>\n",
       "      <td>3</td>\n",
       "      <td>1</td>\n",
       "      <td>13</td>\n",
       "    </tr>\n",
       "    <tr>\n",
       "      <th>2018-03-01 14:00:00</th>\n",
       "      <td>48</td>\n",
       "      <td>40.1</td>\n",
       "      <td>3</td>\n",
       "      <td>1</td>\n",
       "      <td>14</td>\n",
       "    </tr>\n",
       "    <tr>\n",
       "      <th>2018-03-01 15:00:00</th>\n",
       "      <td>66</td>\n",
       "      <td>40.6</td>\n",
       "      <td>3</td>\n",
       "      <td>1</td>\n",
       "      <td>15</td>\n",
       "    </tr>\n",
       "    <tr>\n",
       "      <th>2018-03-01 16:00:00</th>\n",
       "      <td>43</td>\n",
       "      <td>46.6</td>\n",
       "      <td>3</td>\n",
       "      <td>1</td>\n",
       "      <td>16</td>\n",
       "    </tr>\n",
       "    <tr>\n",
       "      <th>2018-03-01 17:00:00</th>\n",
       "      <td>44</td>\n",
       "      <td>49.7</td>\n",
       "      <td>3</td>\n",
       "      <td>1</td>\n",
       "      <td>17</td>\n",
       "    </tr>\n",
       "    <tr>\n",
       "      <th>2018-03-01 18:00:00</th>\n",
       "      <td>73</td>\n",
       "      <td>52.6</td>\n",
       "      <td>3</td>\n",
       "      <td>1</td>\n",
       "      <td>18</td>\n",
       "    </tr>\n",
       "    <tr>\n",
       "      <th>2018-03-01 19:00:00</th>\n",
       "      <td>45</td>\n",
       "      <td>56.5</td>\n",
       "      <td>3</td>\n",
       "      <td>1</td>\n",
       "      <td>19</td>\n",
       "    </tr>\n",
       "    <tr>\n",
       "      <th>2018-03-01 20:00:00</th>\n",
       "      <td>61</td>\n",
       "      <td>54.1</td>\n",
       "      <td>3</td>\n",
       "      <td>1</td>\n",
       "      <td>20</td>\n",
       "    </tr>\n",
       "    <tr>\n",
       "      <th>2018-03-01 21:00:00</th>\n",
       "      <td>66</td>\n",
       "      <td>53.8</td>\n",
       "      <td>3</td>\n",
       "      <td>1</td>\n",
       "      <td>21</td>\n",
       "    </tr>\n",
       "    <tr>\n",
       "      <th>2018-03-01 22:00:00</th>\n",
       "      <td>113</td>\n",
       "      <td>50.8</td>\n",
       "      <td>3</td>\n",
       "      <td>1</td>\n",
       "      <td>22</td>\n",
       "    </tr>\n",
       "    <tr>\n",
       "      <th>2018-03-01 23:00:00</th>\n",
       "      <td>58</td>\n",
       "      <td>59.1</td>\n",
       "      <td>3</td>\n",
       "      <td>1</td>\n",
       "      <td>23</td>\n",
       "    </tr>\n",
       "    <tr>\n",
       "      <th>2018-03-02 00:00:00</th>\n",
       "      <td>90</td>\n",
       "      <td>61.7</td>\n",
       "      <td>3</td>\n",
       "      <td>2</td>\n",
       "      <td>0</td>\n",
       "    </tr>\n",
       "  </tbody>\n",
       "</table>\n",
       "</div>"
      ],
      "text/plain": [
       "                     num_orders  media  month  day  hour\n",
       "datetime                                                \n",
       "2018-03-01 00:00:00         124    NaN      3    1     0\n",
       "2018-03-01 01:00:00          85    NaN      3    1     1\n",
       "2018-03-01 02:00:00          71    NaN      3    1     2\n",
       "2018-03-01 03:00:00          66    NaN      3    1     3\n",
       "2018-03-01 04:00:00          43    NaN      3    1     4\n",
       "2018-03-01 05:00:00           6    NaN      3    1     5\n",
       "2018-03-01 06:00:00          12    NaN      3    1     6\n",
       "2018-03-01 07:00:00          15    NaN      3    1     7\n",
       "2018-03-01 08:00:00          34    NaN      3    1     8\n",
       "2018-03-01 09:00:00          69    NaN      3    1     9\n",
       "2018-03-01 10:00:00          64   52.5      3    1    10\n",
       "2018-03-01 11:00:00          96   46.5      3    1    11\n",
       "2018-03-01 12:00:00          30   47.6      3    1    12\n",
       "2018-03-01 13:00:00          32   43.5      3    1    13\n",
       "2018-03-01 14:00:00          48   40.1      3    1    14\n",
       "2018-03-01 15:00:00          66   40.6      3    1    15\n",
       "2018-03-01 16:00:00          43   46.6      3    1    16\n",
       "2018-03-01 17:00:00          44   49.7      3    1    17\n",
       "2018-03-01 18:00:00          73   52.6      3    1    18\n",
       "2018-03-01 19:00:00          45   56.5      3    1    19\n",
       "2018-03-01 20:00:00          61   54.1      3    1    20\n",
       "2018-03-01 21:00:00          66   53.8      3    1    21\n",
       "2018-03-01 22:00:00         113   50.8      3    1    22\n",
       "2018-03-01 23:00:00          58   59.1      3    1    23\n",
       "2018-03-02 00:00:00          90   61.7      3    2     0"
      ]
     },
     "execution_count": 12,
     "metadata": {},
     "output_type": "execute_result"
    }
   ],
   "source": [
    "#Generamos datos a partir del mes (año no cambia) \n",
    "df_hora2['month'] = df_hora.index.month\n",
    "df_hora2['day'] = df_hora.index.day\n",
    "df_hora2['hour'] = df_hora.index.hour\n",
    "df_hora2.head(25)"
   ]
  },
  {
   "cell_type": "markdown",
   "metadata": {},
   "source": [
    "### Generación de Desfases"
   ]
  },
  {
   "cell_type": "code",
   "execution_count": 13,
   "metadata": {},
   "outputs": [
    {
     "data": {
      "text/html": [
       "<div>\n",
       "<style scoped>\n",
       "    .dataframe tbody tr th:only-of-type {\n",
       "        vertical-align: middle;\n",
       "    }\n",
       "\n",
       "    .dataframe tbody tr th {\n",
       "        vertical-align: top;\n",
       "    }\n",
       "\n",
       "    .dataframe thead th {\n",
       "        text-align: right;\n",
       "    }\n",
       "</style>\n",
       "<table border=\"1\" class=\"dataframe\">\n",
       "  <thead>\n",
       "    <tr style=\"text-align: right;\">\n",
       "      <th></th>\n",
       "      <th>num_orders</th>\n",
       "      <th>media</th>\n",
       "      <th>month</th>\n",
       "      <th>day</th>\n",
       "      <th>hour</th>\n",
       "      <th>lag_1</th>\n",
       "      <th>lag_22</th>\n",
       "      <th>lag_23</th>\n",
       "      <th>lag_24</th>\n",
       "    </tr>\n",
       "    <tr>\n",
       "      <th>datetime</th>\n",
       "      <th></th>\n",
       "      <th></th>\n",
       "      <th></th>\n",
       "      <th></th>\n",
       "      <th></th>\n",
       "      <th></th>\n",
       "      <th></th>\n",
       "      <th></th>\n",
       "      <th></th>\n",
       "    </tr>\n",
       "  </thead>\n",
       "  <tbody>\n",
       "    <tr>\n",
       "      <th>2018-03-01 00:00:00</th>\n",
       "      <td>124</td>\n",
       "      <td>NaN</td>\n",
       "      <td>3</td>\n",
       "      <td>1</td>\n",
       "      <td>0</td>\n",
       "      <td>NaN</td>\n",
       "      <td>NaN</td>\n",
       "      <td>NaN</td>\n",
       "      <td>NaN</td>\n",
       "    </tr>\n",
       "    <tr>\n",
       "      <th>2018-03-01 01:00:00</th>\n",
       "      <td>85</td>\n",
       "      <td>NaN</td>\n",
       "      <td>3</td>\n",
       "      <td>1</td>\n",
       "      <td>1</td>\n",
       "      <td>124.0</td>\n",
       "      <td>NaN</td>\n",
       "      <td>NaN</td>\n",
       "      <td>NaN</td>\n",
       "    </tr>\n",
       "    <tr>\n",
       "      <th>2018-03-01 02:00:00</th>\n",
       "      <td>71</td>\n",
       "      <td>NaN</td>\n",
       "      <td>3</td>\n",
       "      <td>1</td>\n",
       "      <td>2</td>\n",
       "      <td>85.0</td>\n",
       "      <td>NaN</td>\n",
       "      <td>NaN</td>\n",
       "      <td>NaN</td>\n",
       "    </tr>\n",
       "    <tr>\n",
       "      <th>2018-03-01 03:00:00</th>\n",
       "      <td>66</td>\n",
       "      <td>NaN</td>\n",
       "      <td>3</td>\n",
       "      <td>1</td>\n",
       "      <td>3</td>\n",
       "      <td>71.0</td>\n",
       "      <td>NaN</td>\n",
       "      <td>NaN</td>\n",
       "      <td>NaN</td>\n",
       "    </tr>\n",
       "    <tr>\n",
       "      <th>2018-03-01 04:00:00</th>\n",
       "      <td>43</td>\n",
       "      <td>NaN</td>\n",
       "      <td>3</td>\n",
       "      <td>1</td>\n",
       "      <td>4</td>\n",
       "      <td>66.0</td>\n",
       "      <td>NaN</td>\n",
       "      <td>NaN</td>\n",
       "      <td>NaN</td>\n",
       "    </tr>\n",
       "    <tr>\n",
       "      <th>2018-03-01 05:00:00</th>\n",
       "      <td>6</td>\n",
       "      <td>NaN</td>\n",
       "      <td>3</td>\n",
       "      <td>1</td>\n",
       "      <td>5</td>\n",
       "      <td>43.0</td>\n",
       "      <td>NaN</td>\n",
       "      <td>NaN</td>\n",
       "      <td>NaN</td>\n",
       "    </tr>\n",
       "    <tr>\n",
       "      <th>2018-03-01 06:00:00</th>\n",
       "      <td>12</td>\n",
       "      <td>NaN</td>\n",
       "      <td>3</td>\n",
       "      <td>1</td>\n",
       "      <td>6</td>\n",
       "      <td>6.0</td>\n",
       "      <td>NaN</td>\n",
       "      <td>NaN</td>\n",
       "      <td>NaN</td>\n",
       "    </tr>\n",
       "    <tr>\n",
       "      <th>2018-03-01 07:00:00</th>\n",
       "      <td>15</td>\n",
       "      <td>NaN</td>\n",
       "      <td>3</td>\n",
       "      <td>1</td>\n",
       "      <td>7</td>\n",
       "      <td>12.0</td>\n",
       "      <td>NaN</td>\n",
       "      <td>NaN</td>\n",
       "      <td>NaN</td>\n",
       "    </tr>\n",
       "    <tr>\n",
       "      <th>2018-03-01 08:00:00</th>\n",
       "      <td>34</td>\n",
       "      <td>NaN</td>\n",
       "      <td>3</td>\n",
       "      <td>1</td>\n",
       "      <td>8</td>\n",
       "      <td>15.0</td>\n",
       "      <td>NaN</td>\n",
       "      <td>NaN</td>\n",
       "      <td>NaN</td>\n",
       "    </tr>\n",
       "    <tr>\n",
       "      <th>2018-03-01 09:00:00</th>\n",
       "      <td>69</td>\n",
       "      <td>NaN</td>\n",
       "      <td>3</td>\n",
       "      <td>1</td>\n",
       "      <td>9</td>\n",
       "      <td>34.0</td>\n",
       "      <td>NaN</td>\n",
       "      <td>NaN</td>\n",
       "      <td>NaN</td>\n",
       "    </tr>\n",
       "    <tr>\n",
       "      <th>2018-03-01 10:00:00</th>\n",
       "      <td>64</td>\n",
       "      <td>52.5</td>\n",
       "      <td>3</td>\n",
       "      <td>1</td>\n",
       "      <td>10</td>\n",
       "      <td>69.0</td>\n",
       "      <td>NaN</td>\n",
       "      <td>NaN</td>\n",
       "      <td>NaN</td>\n",
       "    </tr>\n",
       "    <tr>\n",
       "      <th>2018-03-01 11:00:00</th>\n",
       "      <td>96</td>\n",
       "      <td>46.5</td>\n",
       "      <td>3</td>\n",
       "      <td>1</td>\n",
       "      <td>11</td>\n",
       "      <td>64.0</td>\n",
       "      <td>NaN</td>\n",
       "      <td>NaN</td>\n",
       "      <td>NaN</td>\n",
       "    </tr>\n",
       "    <tr>\n",
       "      <th>2018-03-01 12:00:00</th>\n",
       "      <td>30</td>\n",
       "      <td>47.6</td>\n",
       "      <td>3</td>\n",
       "      <td>1</td>\n",
       "      <td>12</td>\n",
       "      <td>96.0</td>\n",
       "      <td>NaN</td>\n",
       "      <td>NaN</td>\n",
       "      <td>NaN</td>\n",
       "    </tr>\n",
       "    <tr>\n",
       "      <th>2018-03-01 13:00:00</th>\n",
       "      <td>32</td>\n",
       "      <td>43.5</td>\n",
       "      <td>3</td>\n",
       "      <td>1</td>\n",
       "      <td>13</td>\n",
       "      <td>30.0</td>\n",
       "      <td>NaN</td>\n",
       "      <td>NaN</td>\n",
       "      <td>NaN</td>\n",
       "    </tr>\n",
       "    <tr>\n",
       "      <th>2018-03-01 14:00:00</th>\n",
       "      <td>48</td>\n",
       "      <td>40.1</td>\n",
       "      <td>3</td>\n",
       "      <td>1</td>\n",
       "      <td>14</td>\n",
       "      <td>32.0</td>\n",
       "      <td>NaN</td>\n",
       "      <td>NaN</td>\n",
       "      <td>NaN</td>\n",
       "    </tr>\n",
       "    <tr>\n",
       "      <th>2018-03-01 15:00:00</th>\n",
       "      <td>66</td>\n",
       "      <td>40.6</td>\n",
       "      <td>3</td>\n",
       "      <td>1</td>\n",
       "      <td>15</td>\n",
       "      <td>48.0</td>\n",
       "      <td>NaN</td>\n",
       "      <td>NaN</td>\n",
       "      <td>NaN</td>\n",
       "    </tr>\n",
       "    <tr>\n",
       "      <th>2018-03-01 16:00:00</th>\n",
       "      <td>43</td>\n",
       "      <td>46.6</td>\n",
       "      <td>3</td>\n",
       "      <td>1</td>\n",
       "      <td>16</td>\n",
       "      <td>66.0</td>\n",
       "      <td>NaN</td>\n",
       "      <td>NaN</td>\n",
       "      <td>NaN</td>\n",
       "    </tr>\n",
       "    <tr>\n",
       "      <th>2018-03-01 17:00:00</th>\n",
       "      <td>44</td>\n",
       "      <td>49.7</td>\n",
       "      <td>3</td>\n",
       "      <td>1</td>\n",
       "      <td>17</td>\n",
       "      <td>43.0</td>\n",
       "      <td>NaN</td>\n",
       "      <td>NaN</td>\n",
       "      <td>NaN</td>\n",
       "    </tr>\n",
       "    <tr>\n",
       "      <th>2018-03-01 18:00:00</th>\n",
       "      <td>73</td>\n",
       "      <td>52.6</td>\n",
       "      <td>3</td>\n",
       "      <td>1</td>\n",
       "      <td>18</td>\n",
       "      <td>44.0</td>\n",
       "      <td>NaN</td>\n",
       "      <td>NaN</td>\n",
       "      <td>NaN</td>\n",
       "    </tr>\n",
       "    <tr>\n",
       "      <th>2018-03-01 19:00:00</th>\n",
       "      <td>45</td>\n",
       "      <td>56.5</td>\n",
       "      <td>3</td>\n",
       "      <td>1</td>\n",
       "      <td>19</td>\n",
       "      <td>73.0</td>\n",
       "      <td>NaN</td>\n",
       "      <td>NaN</td>\n",
       "      <td>NaN</td>\n",
       "    </tr>\n",
       "    <tr>\n",
       "      <th>2018-03-01 20:00:00</th>\n",
       "      <td>61</td>\n",
       "      <td>54.1</td>\n",
       "      <td>3</td>\n",
       "      <td>1</td>\n",
       "      <td>20</td>\n",
       "      <td>45.0</td>\n",
       "      <td>NaN</td>\n",
       "      <td>NaN</td>\n",
       "      <td>NaN</td>\n",
       "    </tr>\n",
       "    <tr>\n",
       "      <th>2018-03-01 21:00:00</th>\n",
       "      <td>66</td>\n",
       "      <td>53.8</td>\n",
       "      <td>3</td>\n",
       "      <td>1</td>\n",
       "      <td>21</td>\n",
       "      <td>61.0</td>\n",
       "      <td>NaN</td>\n",
       "      <td>NaN</td>\n",
       "      <td>NaN</td>\n",
       "    </tr>\n",
       "    <tr>\n",
       "      <th>2018-03-01 22:00:00</th>\n",
       "      <td>113</td>\n",
       "      <td>50.8</td>\n",
       "      <td>3</td>\n",
       "      <td>1</td>\n",
       "      <td>22</td>\n",
       "      <td>66.0</td>\n",
       "      <td>124.0</td>\n",
       "      <td>NaN</td>\n",
       "      <td>NaN</td>\n",
       "    </tr>\n",
       "    <tr>\n",
       "      <th>2018-03-01 23:00:00</th>\n",
       "      <td>58</td>\n",
       "      <td>59.1</td>\n",
       "      <td>3</td>\n",
       "      <td>1</td>\n",
       "      <td>23</td>\n",
       "      <td>113.0</td>\n",
       "      <td>85.0</td>\n",
       "      <td>124.0</td>\n",
       "      <td>NaN</td>\n",
       "    </tr>\n",
       "    <tr>\n",
       "      <th>2018-03-02 00:00:00</th>\n",
       "      <td>90</td>\n",
       "      <td>61.7</td>\n",
       "      <td>3</td>\n",
       "      <td>2</td>\n",
       "      <td>0</td>\n",
       "      <td>58.0</td>\n",
       "      <td>71.0</td>\n",
       "      <td>85.0</td>\n",
       "      <td>124.0</td>\n",
       "    </tr>\n",
       "  </tbody>\n",
       "</table>\n",
       "</div>"
      ],
      "text/plain": [
       "                     num_orders  media  month  day  hour  lag_1  lag_22  \\\n",
       "datetime                                                                  \n",
       "2018-03-01 00:00:00         124    NaN      3    1     0    NaN     NaN   \n",
       "2018-03-01 01:00:00          85    NaN      3    1     1  124.0     NaN   \n",
       "2018-03-01 02:00:00          71    NaN      3    1     2   85.0     NaN   \n",
       "2018-03-01 03:00:00          66    NaN      3    1     3   71.0     NaN   \n",
       "2018-03-01 04:00:00          43    NaN      3    1     4   66.0     NaN   \n",
       "2018-03-01 05:00:00           6    NaN      3    1     5   43.0     NaN   \n",
       "2018-03-01 06:00:00          12    NaN      3    1     6    6.0     NaN   \n",
       "2018-03-01 07:00:00          15    NaN      3    1     7   12.0     NaN   \n",
       "2018-03-01 08:00:00          34    NaN      3    1     8   15.0     NaN   \n",
       "2018-03-01 09:00:00          69    NaN      3    1     9   34.0     NaN   \n",
       "2018-03-01 10:00:00          64   52.5      3    1    10   69.0     NaN   \n",
       "2018-03-01 11:00:00          96   46.5      3    1    11   64.0     NaN   \n",
       "2018-03-01 12:00:00          30   47.6      3    1    12   96.0     NaN   \n",
       "2018-03-01 13:00:00          32   43.5      3    1    13   30.0     NaN   \n",
       "2018-03-01 14:00:00          48   40.1      3    1    14   32.0     NaN   \n",
       "2018-03-01 15:00:00          66   40.6      3    1    15   48.0     NaN   \n",
       "2018-03-01 16:00:00          43   46.6      3    1    16   66.0     NaN   \n",
       "2018-03-01 17:00:00          44   49.7      3    1    17   43.0     NaN   \n",
       "2018-03-01 18:00:00          73   52.6      3    1    18   44.0     NaN   \n",
       "2018-03-01 19:00:00          45   56.5      3    1    19   73.0     NaN   \n",
       "2018-03-01 20:00:00          61   54.1      3    1    20   45.0     NaN   \n",
       "2018-03-01 21:00:00          66   53.8      3    1    21   61.0     NaN   \n",
       "2018-03-01 22:00:00         113   50.8      3    1    22   66.0   124.0   \n",
       "2018-03-01 23:00:00          58   59.1      3    1    23  113.0    85.0   \n",
       "2018-03-02 00:00:00          90   61.7      3    2     0   58.0    71.0   \n",
       "\n",
       "                     lag_23  lag_24  \n",
       "datetime                             \n",
       "2018-03-01 00:00:00     NaN     NaN  \n",
       "2018-03-01 01:00:00     NaN     NaN  \n",
       "2018-03-01 02:00:00     NaN     NaN  \n",
       "2018-03-01 03:00:00     NaN     NaN  \n",
       "2018-03-01 04:00:00     NaN     NaN  \n",
       "2018-03-01 05:00:00     NaN     NaN  \n",
       "2018-03-01 06:00:00     NaN     NaN  \n",
       "2018-03-01 07:00:00     NaN     NaN  \n",
       "2018-03-01 08:00:00     NaN     NaN  \n",
       "2018-03-01 09:00:00     NaN     NaN  \n",
       "2018-03-01 10:00:00     NaN     NaN  \n",
       "2018-03-01 11:00:00     NaN     NaN  \n",
       "2018-03-01 12:00:00     NaN     NaN  \n",
       "2018-03-01 13:00:00     NaN     NaN  \n",
       "2018-03-01 14:00:00     NaN     NaN  \n",
       "2018-03-01 15:00:00     NaN     NaN  \n",
       "2018-03-01 16:00:00     NaN     NaN  \n",
       "2018-03-01 17:00:00     NaN     NaN  \n",
       "2018-03-01 18:00:00     NaN     NaN  \n",
       "2018-03-01 19:00:00     NaN     NaN  \n",
       "2018-03-01 20:00:00     NaN     NaN  \n",
       "2018-03-01 21:00:00     NaN     NaN  \n",
       "2018-03-01 22:00:00     NaN     NaN  \n",
       "2018-03-01 23:00:00   124.0     NaN  \n",
       "2018-03-02 00:00:00    85.0   124.0  "
      ]
     },
     "execution_count": 13,
     "metadata": {},
     "output_type": "execute_result"
    }
   ],
   "source": [
    "#Creación Desfases de acuerdo al gráfico de Autocorrelación\n",
    "df_hora2['lag_1'] = df_hora.shift()\n",
    "df_hora2['lag_22'] = df_hora.shift(22)\n",
    "df_hora2['lag_23'] = df_hora.shift(23)\n",
    "df_hora2['lag_24'] = df_hora.shift(24)\n",
    "df_hora2.head(25)"
   ]
  },
  {
   "cell_type": "markdown",
   "metadata": {},
   "source": [
    "## Prueba"
   ]
  },
  {
   "cell_type": "markdown",
   "metadata": {},
   "source": [
    "### Eliminación Datos Faltantes"
   ]
  },
  {
   "cell_type": "code",
   "execution_count": 14,
   "metadata": {},
   "outputs": [],
   "source": [
    "df_hora2.dropna(inplace=True)"
   ]
  },
  {
   "cell_type": "markdown",
   "metadata": {},
   "source": [
    "### Separación Conjunto de Datos"
   ]
  },
  {
   "cell_type": "code",
   "execution_count": 15,
   "metadata": {},
   "outputs": [],
   "source": [
    "#Separación atributos - objetivo\n",
    "features = df_hora2.drop(columns='num_orders',axis=1)\n",
    "target = df_hora2['num_orders']"
   ]
  },
  {
   "cell_type": "code",
   "execution_count": 16,
   "metadata": {},
   "outputs": [
    {
     "name": "stdout",
     "output_type": "stream",
     "text": [
      "(3952, 8)\n",
      "(440, 8)\n",
      "(3952,)\n",
      "(440,)\n"
     ]
    }
   ],
   "source": [
    "#Separación datos de entrenamiento-prueba (10%)\n",
    "features_train,features_test,target_train,target_test = train_test_split(features,target,\n",
    "                                                                         test_size=0.1,\n",
    "                                                                         shuffle=False,\n",
    "                                                                        random_state=1234)\n",
    "#Comprobación de tamaños separación\n",
    "print(features_train.shape)\n",
    "print(features_test.shape)\n",
    "print(target_train.shape)\n",
    "print(target_test.shape)"
   ]
  },
  {
   "cell_type": "markdown",
   "metadata": {},
   "source": [
    "### Regresión Lineal"
   ]
  },
  {
   "cell_type": "code",
   "execution_count": 17,
   "metadata": {},
   "outputs": [
    {
     "name": "stdout",
     "output_type": "stream",
     "text": [
      "RECM Regresión Lineal: 45.85\n"
     ]
    }
   ],
   "source": [
    "#Entrenamiento\n",
    "lineal = LinearRegression()\n",
    "lineal.fit(features_train,target_train)\n",
    "#Predicción\n",
    "lineal_pred = lineal.predict(features_test)\n",
    "#Métrica Error\n",
    "recm = mean_squared_error(target_test,lineal_pred)**0.5\n",
    "print(f'RECM Regresión Lineal: {recm:.2f}')"
   ]
  },
  {
   "cell_type": "markdown",
   "metadata": {},
   "source": [
    "### Bosque Aleatorio"
   ]
  },
  {
   "cell_type": "code",
   "execution_count": 18,
   "metadata": {},
   "outputs": [
    {
     "name": "stdout",
     "output_type": "stream",
     "text": [
      "RECM Bosque Aleatorio: 44.43\n"
     ]
    }
   ],
   "source": [
    "#Variable RECM\n",
    "recm_bosque = 50\n",
    "\n",
    "\n",
    "#Lazo de prueba de hiperparámetros\n",
    "for i in range (10,150,30):\n",
    "    for j in range(1,10,2):\n",
    "        bosque = RandomForestRegressor (n_estimators=i, max_depth=j,random_state=1234)\n",
    "        #Entrenamiento\n",
    "        bosque.fit(features_train,target_train)\n",
    "        #Predicción\n",
    "        bosque_pred = bosque.predict(features_test)\n",
    "        #Métrica Error\n",
    "        recm = mean_squared_error(target_test,bosque_pred)**0.5\n",
    "        if recm < recm_bosque:\n",
    "            recm_bosque = recm\n",
    "\n",
    "\n",
    "print(f\"RECM Bosque Aleatorio: {recm_bosque:.2f}\")\n"
   ]
  },
  {
   "cell_type": "markdown",
   "metadata": {},
   "source": [
    "### LGBM"
   ]
  },
  {
   "cell_type": "code",
   "execution_count": 19,
   "metadata": {},
   "outputs": [
    {
     "name": "stdout",
     "output_type": "stream",
     "text": [
      "RECM LightGBM: 41.10\n"
     ]
    }
   ],
   "source": [
    "#Variable RECM\n",
    "recm_lgbm = 100\n",
    "\n",
    "#Lazo de prueba de hiperparámetros\n",
    "for r in range(1,50,10):\n",
    "    for n in range(50,150,50):\n",
    "        #Entrenamiento\n",
    "        lgbm = LGBMRegressor(learning_rate=(r/10), n_estimators=n, random_state=1234,\n",
    "                             verbose = -1).fit(features_train,target_train)\n",
    "\n",
    "        #Predicción\n",
    "        lgbm_pred= lgbm.predict(features_test)\n",
    "        #Métrica Error\n",
    "        recm = mean_squared_error(target_test,lgbm_pred)**0.5\n",
    "        if recm < recm_lgbm:\n",
    "            recm_lgbm = recm\n",
    "\n",
    "print(f\"RECM LightGBM: {recm_lgbm:.2f}\")\n"
   ]
  },
  {
   "cell_type": "markdown",
   "metadata": {},
   "source": [
    "## Conclusiones"
   ]
  },
  {
   "cell_type": "markdown",
   "metadata": {},
   "source": [
    "- Aunque inicialmente consideramos a la serie no estacionaria de acuerdo a los gráficos, comprobamos que si tenía esta característica mediante una prueba estadística.\n",
    "- Usamos el parámetro de auto correlación para determinar los desfases que predicen mejor los valores futuros, determinando que eran el 1, 22, 23,24. Se hizo una prueba con 1 solo defase, y el RECM en todos los modelos aumentó.\n",
    "- Creamos atributos que contribuyeron al modelo, como el mes, día y hora.\n",
    "- Creamos como atributo a la media móvil, se realizaron pruebas con venta de: 1-10-24, obervando una ligera mejora en el RECM en 10 respcto a 1. El aumento a ventana de 24 no tuvo efecto.\n",
    "- El error de la regresión lineal podría mejorar si se estadarizan los datos.\n",
    "- El modelo con potenciación de gradiente ajustando hiperparámetros fue el mas efectivo a la hora de predecir.\n",
    "- Se consiguió el objetivo de tener un modelo que puede predecir el número de pedidos cada hora, con una métrica de error menor a 48."
   ]
  }
 ],
 "metadata": {
  "ExecuteTimeLog": [
   {
    "duration": 545,
    "start_time": "2025-01-16T22:38:44.202Z"
   },
   {
    "duration": 558,
    "start_time": "2025-01-16T22:38:50.554Z"
   },
   {
    "duration": 2,
    "start_time": "2025-01-16T22:39:30.078Z"
   },
   {
    "duration": 35,
    "start_time": "2025-01-16T22:41:18.627Z"
   },
   {
    "duration": 12,
    "start_time": "2025-01-16T22:41:22.374Z"
   },
   {
    "duration": 53,
    "start_time": "2025-01-16T22:42:49.048Z"
   },
   {
    "duration": 33,
    "start_time": "2025-01-16T23:09:18.597Z"
   },
   {
    "duration": 8,
    "start_time": "2025-01-17T00:05:47.357Z"
   },
   {
    "duration": 159,
    "start_time": "2025-01-17T13:11:37.937Z"
   },
   {
    "duration": 798,
    "start_time": "2025-01-17T13:11:44.333Z"
   },
   {
    "duration": 34,
    "start_time": "2025-01-17T13:11:45.884Z"
   },
   {
    "duration": 69,
    "start_time": "2025-01-17T13:12:20.138Z"
   },
   {
    "duration": 14,
    "start_time": "2025-01-17T13:12:49.227Z"
   },
   {
    "duration": 5,
    "start_time": "2025-01-17T13:14:02.624Z"
   },
   {
    "duration": 13,
    "start_time": "2025-01-17T13:14:10.309Z"
   },
   {
    "duration": 4,
    "start_time": "2025-01-17T13:14:20.174Z"
   },
   {
    "duration": 162,
    "start_time": "2025-01-17T19:14:15.198Z"
   },
   {
    "duration": 822,
    "start_time": "2025-01-17T19:14:18.137Z"
   },
   {
    "duration": 38,
    "start_time": "2025-01-17T19:14:19.696Z"
   },
   {
    "duration": 12,
    "start_time": "2025-01-17T19:14:21.111Z"
   },
   {
    "duration": 70,
    "start_time": "2025-01-17T19:14:41.106Z"
   },
   {
    "duration": 5,
    "start_time": "2025-01-17T19:16:17.169Z"
   },
   {
    "duration": 10,
    "start_time": "2025-01-17T19:16:50.137Z"
   },
   {
    "duration": 7,
    "start_time": "2025-01-17T19:19:16.872Z"
   },
   {
    "duration": 5,
    "start_time": "2025-01-17T19:19:26.612Z"
   },
   {
    "duration": 8,
    "start_time": "2025-01-17T19:19:28.955Z"
   },
   {
    "duration": 2214,
    "start_time": "2025-01-17T20:04:41.665Z"
   },
   {
    "duration": 5,
    "start_time": "2025-01-17T20:06:02.268Z"
   },
   {
    "duration": 80,
    "start_time": "2025-01-17T20:06:11.470Z"
   },
   {
    "duration": 5,
    "start_time": "2025-01-17T20:07:54.521Z"
   },
   {
    "duration": 80,
    "start_time": "2025-01-17T20:08:09.867Z"
   },
   {
    "duration": 25,
    "start_time": "2025-01-17T20:08:36.075Z"
   },
   {
    "duration": 232,
    "start_time": "2025-01-17T20:13:05.343Z"
   },
   {
    "duration": 2,
    "start_time": "2025-01-17T20:14:19.320Z"
   },
   {
    "duration": 26,
    "start_time": "2025-01-17T20:14:21.405Z"
   },
   {
    "duration": 5,
    "start_time": "2025-01-17T20:14:23.777Z"
   },
   {
    "duration": 11,
    "start_time": "2025-01-17T20:14:27.000Z"
   },
   {
    "duration": 198,
    "start_time": "2025-01-17T20:14:35.386Z"
   },
   {
    "duration": 5,
    "start_time": "2025-01-17T20:16:02.826Z"
   },
   {
    "duration": 184,
    "start_time": "2025-01-17T20:16:21.688Z"
   },
   {
    "duration": 466,
    "start_time": "2025-01-17T20:42:38.952Z"
   },
   {
    "duration": 16,
    "start_time": "2025-01-17T20:43:23.351Z"
   },
   {
    "duration": 519,
    "start_time": "2025-01-17T20:43:32.317Z"
   },
   {
    "duration": 261,
    "start_time": "2025-01-17T20:44:03.242Z"
   },
   {
    "duration": 245,
    "start_time": "2025-01-17T20:44:21.061Z"
   },
   {
    "duration": 183,
    "start_time": "2025-01-17T20:44:50.348Z"
   },
   {
    "duration": 133,
    "start_time": "2025-01-17T20:45:09.188Z"
   },
   {
    "duration": 131,
    "start_time": "2025-01-17T20:46:17.182Z"
   },
   {
    "duration": 151,
    "start_time": "2025-01-17T20:46:30.295Z"
   },
   {
    "duration": 210,
    "start_time": "2025-01-17T21:57:18.300Z"
   },
   {
    "duration": 6,
    "start_time": "2025-01-17T22:41:23.898Z"
   },
   {
    "duration": 8,
    "start_time": "2025-01-17T22:41:42.037Z"
   },
   {
    "duration": 3,
    "start_time": "2025-01-17T22:42:53.963Z"
   },
   {
    "duration": 8,
    "start_time": "2025-01-17T22:43:08.495Z"
   },
   {
    "duration": 5,
    "start_time": "2025-01-17T22:44:28.669Z"
   },
   {
    "duration": 6,
    "start_time": "2025-01-17T22:44:39.117Z"
   },
   {
    "duration": 6,
    "start_time": "2025-01-17T22:44:51.202Z"
   },
   {
    "duration": 9,
    "start_time": "2025-01-17T22:45:16.185Z"
   },
   {
    "duration": 8,
    "start_time": "2025-01-17T22:45:25.436Z"
   },
   {
    "duration": 14,
    "start_time": "2025-01-17T22:45:59.204Z"
   },
   {
    "duration": 10,
    "start_time": "2025-01-17T22:48:31.363Z"
   },
   {
    "duration": 11,
    "start_time": "2025-01-17T22:52:15.013Z"
   },
   {
    "duration": 12,
    "start_time": "2025-01-17T22:52:38.602Z"
   },
   {
    "duration": 148,
    "start_time": "2025-01-17T22:52:47.977Z"
   },
   {
    "duration": 138,
    "start_time": "2025-01-17T22:53:13.987Z"
   },
   {
    "duration": 147,
    "start_time": "2025-01-17T22:53:26.276Z"
   },
   {
    "duration": 144,
    "start_time": "2025-01-17T22:53:35.891Z"
   },
   {
    "duration": 168,
    "start_time": "2025-01-17T22:53:53.720Z"
   },
   {
    "duration": 154,
    "start_time": "2025-01-17T22:54:03.315Z"
   },
   {
    "duration": 146,
    "start_time": "2025-01-17T22:57:36.134Z"
   },
   {
    "duration": 202,
    "start_time": "2025-01-17T22:58:18.528Z"
   },
   {
    "duration": 7,
    "start_time": "2025-01-17T23:02:50.405Z"
   },
   {
    "duration": 209,
    "start_time": "2025-01-17T23:03:31.782Z"
   },
   {
    "duration": 206,
    "start_time": "2025-01-17T23:04:40.076Z"
   },
   {
    "duration": 224,
    "start_time": "2025-01-17T23:05:12.230Z"
   },
   {
    "duration": 372,
    "start_time": "2025-01-17T23:05:34.042Z"
   },
   {
    "duration": 770,
    "start_time": "2025-01-17T23:21:00.532Z"
   },
   {
    "duration": 378,
    "start_time": "2025-01-17T23:21:12.957Z"
   },
   {
    "duration": 167,
    "start_time": "2025-01-17T23:21:36.990Z"
   },
   {
    "duration": 182,
    "start_time": "2025-01-17T23:25:14.727Z"
   },
   {
    "duration": 4,
    "start_time": "2025-01-17T23:26:36.441Z"
   },
   {
    "duration": 169,
    "start_time": "2025-01-17T23:28:36.688Z"
   },
   {
    "duration": 171,
    "start_time": "2025-01-17T23:29:08.406Z"
   },
   {
    "duration": 181,
    "start_time": "2025-01-17T23:29:29.912Z"
   },
   {
    "duration": 39,
    "start_time": "2025-01-17T23:38:06.833Z"
   },
   {
    "duration": 416,
    "start_time": "2025-01-17T23:38:23.014Z"
   },
   {
    "duration": 367,
    "start_time": "2025-01-17T23:47:00.973Z"
   },
   {
    "duration": 179,
    "start_time": "2025-01-17T23:50:36.203Z"
   },
   {
    "duration": 3,
    "start_time": "2025-01-17T23:55:18.215Z"
   },
   {
    "duration": 3,
    "start_time": "2025-01-17T23:56:28.055Z"
   },
   {
    "duration": 74,
    "start_time": "2025-01-18T00:00:56.958Z"
   },
   {
    "duration": 9,
    "start_time": "2025-01-18T00:01:16.218Z"
   },
   {
    "duration": 314,
    "start_time": "2025-01-18T00:06:42.673Z"
   },
   {
    "duration": 23,
    "start_time": "2025-01-18T00:07:08.404Z"
   },
   {
    "duration": 23,
    "start_time": "2025-01-18T00:07:16.664Z"
   },
   {
    "duration": 406,
    "start_time": "2025-01-18T00:07:28.605Z"
   },
   {
    "duration": 273,
    "start_time": "2025-01-18T00:07:46.358Z"
   },
   {
    "duration": 226,
    "start_time": "2025-01-18T00:08:05.212Z"
   },
   {
    "duration": 225,
    "start_time": "2025-01-18T00:08:36.535Z"
   },
   {
    "duration": 234,
    "start_time": "2025-01-18T00:09:28.474Z"
   },
   {
    "duration": 215,
    "start_time": "2025-01-18T00:13:13.227Z"
   },
   {
    "duration": 403,
    "start_time": "2025-01-18T00:19:33.247Z"
   },
   {
    "duration": 3,
    "start_time": "2025-01-18T00:19:52.484Z"
   },
   {
    "duration": 235,
    "start_time": "2025-01-18T00:23:07.047Z"
   },
   {
    "duration": 204,
    "start_time": "2025-01-18T00:23:39.432Z"
   },
   {
    "duration": 5,
    "start_time": "2025-01-18T00:29:03.928Z"
   },
   {
    "duration": 14,
    "start_time": "2025-01-18T00:29:14.772Z"
   },
   {
    "duration": 11,
    "start_time": "2025-01-18T00:29:35.987Z"
   },
   {
    "duration": 10,
    "start_time": "2025-01-18T00:31:30.922Z"
   },
   {
    "duration": 12,
    "start_time": "2025-01-18T00:34:02.477Z"
   },
   {
    "duration": 11,
    "start_time": "2025-01-18T00:34:44.708Z"
   },
   {
    "duration": 522,
    "start_time": "2025-01-18T00:34:54.946Z"
   },
   {
    "duration": 973,
    "start_time": "2025-01-18T00:35:21.242Z"
   },
   {
    "duration": 27,
    "start_time": "2025-01-18T00:35:22.217Z"
   },
   {
    "duration": 8,
    "start_time": "2025-01-18T00:35:22.246Z"
   },
   {
    "duration": 12,
    "start_time": "2025-01-18T00:35:22.256Z"
   },
   {
    "duration": 309,
    "start_time": "2025-01-18T00:35:22.269Z"
   },
   {
    "duration": 177,
    "start_time": "2025-01-18T00:35:22.580Z"
   },
   {
    "duration": 172,
    "start_time": "2025-01-18T00:35:22.759Z"
   },
   {
    "duration": 420,
    "start_time": "2025-01-18T00:35:22.933Z"
   },
   {
    "duration": 307,
    "start_time": "2025-01-18T00:35:23.354Z"
   },
   {
    "duration": 2,
    "start_time": "2025-01-18T00:35:23.664Z"
   },
   {
    "duration": 224,
    "start_time": "2025-01-18T00:35:23.668Z"
   },
   {
    "duration": 12,
    "start_time": "2025-01-18T00:35:23.893Z"
   },
   {
    "duration": 25,
    "start_time": "2025-01-18T00:35:23.907Z"
   },
   {
    "duration": 592,
    "start_time": "2025-01-18T00:37:11.971Z"
   },
   {
    "duration": 4,
    "start_time": "2025-01-18T00:38:37.771Z"
   },
   {
    "duration": 276,
    "start_time": "2025-01-18T00:39:09.618Z"
   },
   {
    "duration": 938,
    "start_time": "2025-01-18T00:39:19.092Z"
   },
   {
    "duration": 26,
    "start_time": "2025-01-18T00:39:20.033Z"
   },
   {
    "duration": 8,
    "start_time": "2025-01-18T00:39:20.060Z"
   },
   {
    "duration": 12,
    "start_time": "2025-01-18T00:39:20.071Z"
   },
   {
    "duration": 293,
    "start_time": "2025-01-18T00:39:20.084Z"
   },
   {
    "duration": 173,
    "start_time": "2025-01-18T00:39:20.380Z"
   },
   {
    "duration": 187,
    "start_time": "2025-01-18T00:39:20.555Z"
   },
   {
    "duration": 408,
    "start_time": "2025-01-18T00:39:20.744Z"
   },
   {
    "duration": 294,
    "start_time": "2025-01-18T00:39:21.154Z"
   },
   {
    "duration": 3,
    "start_time": "2025-01-18T00:39:21.450Z"
   },
   {
    "duration": 213,
    "start_time": "2025-01-18T00:39:21.454Z"
   },
   {
    "duration": 11,
    "start_time": "2025-01-18T00:39:21.669Z"
   },
   {
    "duration": 11,
    "start_time": "2025-01-18T00:39:21.682Z"
   },
   {
    "duration": 4,
    "start_time": "2025-01-18T00:45:23.589Z"
   },
   {
    "duration": 5,
    "start_time": "2025-01-18T00:45:25.021Z"
   },
   {
    "duration": 16,
    "start_time": "2025-01-18T00:46:44.075Z"
   },
   {
    "duration": 454,
    "start_time": "2025-01-18T00:49:05.389Z"
   },
   {
    "duration": 5,
    "start_time": "2025-01-18T00:50:03.965Z"
   },
   {
    "duration": 4,
    "start_time": "2025-01-18T00:50:07.239Z"
   },
   {
    "duration": 5,
    "start_time": "2025-01-18T00:50:07.855Z"
   },
   {
    "duration": 16,
    "start_time": "2025-01-18T00:50:11.336Z"
   },
   {
    "duration": 6,
    "start_time": "2025-01-18T00:50:56.608Z"
   },
   {
    "duration": 109,
    "start_time": "2025-01-18T00:52:06.855Z"
   },
   {
    "duration": 99,
    "start_time": "2025-01-18T00:59:18.978Z"
   },
   {
    "duration": 507,
    "start_time": "2025-01-18T01:02:06.918Z"
   },
   {
    "duration": 480,
    "start_time": "2025-01-18T01:02:24.118Z"
   },
   {
    "duration": 160,
    "start_time": "2025-01-18T01:04:39.391Z"
   },
   {
    "duration": 784,
    "start_time": "2025-01-18T01:06:18.723Z"
   },
   {
    "duration": 2498,
    "start_time": "2025-01-18T01:06:44.933Z"
   },
   {
    "duration": 4901,
    "start_time": "2025-01-18T01:07:16.391Z"
   },
   {
    "duration": 4874,
    "start_time": "2025-01-18T01:07:36.954Z"
   },
   {
    "duration": 1692,
    "start_time": "2025-01-18T01:08:32.456Z"
   },
   {
    "duration": 104,
    "start_time": "2025-01-18T01:09:13.415Z"
   },
   {
    "duration": 101,
    "start_time": "2025-01-18T01:10:35.850Z"
   },
   {
    "duration": 180,
    "start_time": "2025-01-18T01:10:58.176Z"
   },
   {
    "duration": 96,
    "start_time": "2025-01-18T01:11:21.317Z"
   },
   {
    "duration": 98,
    "start_time": "2025-01-18T01:11:33.398Z"
   },
   {
    "duration": 92,
    "start_time": "2025-01-18T01:11:56.548Z"
   },
   {
    "duration": 6,
    "start_time": "2025-01-18T01:12:19.478Z"
   },
   {
    "duration": 1109,
    "start_time": "2025-01-18T01:13:26.466Z"
   },
   {
    "duration": 26,
    "start_time": "2025-01-18T01:13:27.578Z"
   },
   {
    "duration": 8,
    "start_time": "2025-01-18T01:13:27.606Z"
   },
   {
    "duration": 23,
    "start_time": "2025-01-18T01:13:27.617Z"
   },
   {
    "duration": 246,
    "start_time": "2025-01-18T01:13:27.642Z"
   },
   {
    "duration": 177,
    "start_time": "2025-01-18T01:13:27.890Z"
   },
   {
    "duration": 176,
    "start_time": "2025-01-18T01:13:28.069Z"
   },
   {
    "duration": 485,
    "start_time": "2025-01-18T01:13:28.247Z"
   },
   {
    "duration": 247,
    "start_time": "2025-01-18T01:13:28.734Z"
   },
   {
    "duration": 3,
    "start_time": "2025-01-18T01:13:28.985Z"
   },
   {
    "duration": 285,
    "start_time": "2025-01-18T01:13:28.990Z"
   },
   {
    "duration": 12,
    "start_time": "2025-01-18T01:13:29.277Z"
   },
   {
    "duration": 17,
    "start_time": "2025-01-18T01:13:29.291Z"
   },
   {
    "duration": 23,
    "start_time": "2025-01-18T01:13:29.311Z"
   },
   {
    "duration": 4,
    "start_time": "2025-01-18T01:13:29.336Z"
   },
   {
    "duration": 6,
    "start_time": "2025-01-18T01:13:29.341Z"
   },
   {
    "duration": 8,
    "start_time": "2025-01-18T01:13:29.348Z"
   },
   {
    "duration": 185,
    "start_time": "2025-01-18T01:13:29.358Z"
   },
   {
    "duration": 7850,
    "start_time": "2025-01-18T01:13:29.545Z"
   },
   {
    "duration": 1938,
    "start_time": "2025-01-18T01:13:37.396Z"
   },
   {
    "duration": 6,
    "start_time": "2025-01-18T01:13:39.336Z"
   },
   {
    "duration": 1146,
    "start_time": "2025-01-18T01:15:03.747Z"
   },
   {
    "duration": 27,
    "start_time": "2025-01-18T01:15:04.895Z"
   },
   {
    "duration": 14,
    "start_time": "2025-01-18T01:15:04.924Z"
   },
   {
    "duration": 10,
    "start_time": "2025-01-18T01:15:04.941Z"
   },
   {
    "duration": 236,
    "start_time": "2025-01-18T01:15:04.952Z"
   },
   {
    "duration": 184,
    "start_time": "2025-01-18T01:15:05.190Z"
   },
   {
    "duration": 174,
    "start_time": "2025-01-18T01:15:05.376Z"
   },
   {
    "duration": 481,
    "start_time": "2025-01-18T01:15:05.551Z"
   },
   {
    "duration": 245,
    "start_time": "2025-01-18T01:15:06.035Z"
   },
   {
    "duration": 3,
    "start_time": "2025-01-18T01:15:06.283Z"
   },
   {
    "duration": 288,
    "start_time": "2025-01-18T01:15:06.288Z"
   },
   {
    "duration": 12,
    "start_time": "2025-01-18T01:15:06.579Z"
   },
   {
    "duration": 16,
    "start_time": "2025-01-18T01:15:06.593Z"
   },
   {
    "duration": 5,
    "start_time": "2025-01-18T01:15:06.610Z"
   },
   {
    "duration": 17,
    "start_time": "2025-01-18T01:15:06.616Z"
   },
   {
    "duration": 5,
    "start_time": "2025-01-18T01:15:06.635Z"
   },
   {
    "duration": 7,
    "start_time": "2025-01-18T01:15:06.641Z"
   },
   {
    "duration": 159,
    "start_time": "2025-01-18T01:15:06.650Z"
   },
   {
    "duration": 8513,
    "start_time": "2025-01-18T01:15:06.832Z"
   },
   {
    "duration": 1885,
    "start_time": "2025-01-18T01:15:15.347Z"
   },
   {
    "duration": 5,
    "start_time": "2025-01-18T01:15:17.234Z"
   },
   {
    "duration": 1048,
    "start_time": "2025-01-18T01:15:49.831Z"
   },
   {
    "duration": 26,
    "start_time": "2025-01-18T01:15:50.881Z"
   },
   {
    "duration": 7,
    "start_time": "2025-01-18T01:15:50.909Z"
   },
   {
    "duration": 23,
    "start_time": "2025-01-18T01:15:50.918Z"
   },
   {
    "duration": 233,
    "start_time": "2025-01-18T01:15:50.943Z"
   },
   {
    "duration": 170,
    "start_time": "2025-01-18T01:15:51.179Z"
   },
   {
    "duration": 180,
    "start_time": "2025-01-18T01:15:51.351Z"
   },
   {
    "duration": 406,
    "start_time": "2025-01-18T01:15:51.533Z"
   },
   {
    "duration": 293,
    "start_time": "2025-01-18T01:15:51.942Z"
   },
   {
    "duration": 3,
    "start_time": "2025-01-18T01:15:52.237Z"
   },
   {
    "duration": 289,
    "start_time": "2025-01-18T01:15:52.242Z"
   },
   {
    "duration": 12,
    "start_time": "2025-01-18T01:15:52.533Z"
   },
   {
    "duration": 18,
    "start_time": "2025-01-18T01:15:52.547Z"
   },
   {
    "duration": 6,
    "start_time": "2025-01-18T01:15:52.568Z"
   },
   {
    "duration": 3,
    "start_time": "2025-01-18T01:15:52.575Z"
   },
   {
    "duration": 4,
    "start_time": "2025-01-18T01:15:52.580Z"
   },
   {
    "duration": 49,
    "start_time": "2025-01-18T01:15:52.586Z"
   },
   {
    "duration": 164,
    "start_time": "2025-01-18T01:15:52.638Z"
   },
   {
    "duration": 9088,
    "start_time": "2025-01-18T01:15:52.804Z"
   },
   {
    "duration": 1938,
    "start_time": "2025-01-18T01:16:01.894Z"
   },
   {
    "duration": 5,
    "start_time": "2025-01-18T01:16:03.834Z"
   },
   {
    "duration": 1139,
    "start_time": "2025-01-18T01:16:24.846Z"
   },
   {
    "duration": 28,
    "start_time": "2025-01-18T01:16:25.987Z"
   },
   {
    "duration": 19,
    "start_time": "2025-01-18T01:16:26.017Z"
   },
   {
    "duration": 10,
    "start_time": "2025-01-18T01:16:26.039Z"
   },
   {
    "duration": 241,
    "start_time": "2025-01-18T01:16:26.051Z"
   },
   {
    "duration": 167,
    "start_time": "2025-01-18T01:16:26.294Z"
   },
   {
    "duration": 178,
    "start_time": "2025-01-18T01:16:26.463Z"
   },
   {
    "duration": 408,
    "start_time": "2025-01-18T01:16:26.643Z"
   },
   {
    "duration": 293,
    "start_time": "2025-01-18T01:16:27.052Z"
   },
   {
    "duration": 3,
    "start_time": "2025-01-18T01:16:27.348Z"
   },
   {
    "duration": 276,
    "start_time": "2025-01-18T01:16:27.353Z"
   },
   {
    "duration": 11,
    "start_time": "2025-01-18T01:16:27.632Z"
   },
   {
    "duration": 27,
    "start_time": "2025-01-18T01:16:27.645Z"
   },
   {
    "duration": 6,
    "start_time": "2025-01-18T01:16:27.674Z"
   },
   {
    "duration": 5,
    "start_time": "2025-01-18T01:16:27.682Z"
   },
   {
    "duration": 9,
    "start_time": "2025-01-18T01:16:27.688Z"
   },
   {
    "duration": 32,
    "start_time": "2025-01-18T01:16:27.699Z"
   },
   {
    "duration": 164,
    "start_time": "2025-01-18T01:16:27.734Z"
   },
   {
    "duration": 8784,
    "start_time": "2025-01-18T01:16:27.900Z"
   },
   {
    "duration": 1864,
    "start_time": "2025-01-18T01:16:36.687Z"
   },
   {
    "duration": 5,
    "start_time": "2025-01-18T01:16:38.631Z"
   },
   {
    "duration": 1059,
    "start_time": "2025-01-18T01:16:56.591Z"
   },
   {
    "duration": 36,
    "start_time": "2025-01-18T01:16:57.653Z"
   },
   {
    "duration": 9,
    "start_time": "2025-01-18T01:16:57.690Z"
   },
   {
    "duration": 11,
    "start_time": "2025-01-18T01:16:57.702Z"
   },
   {
    "duration": 253,
    "start_time": "2025-01-18T01:16:57.715Z"
   },
   {
    "duration": 181,
    "start_time": "2025-01-18T01:16:57.970Z"
   },
   {
    "duration": 176,
    "start_time": "2025-01-18T01:16:58.152Z"
   },
   {
    "duration": 417,
    "start_time": "2025-01-18T01:16:58.332Z"
   },
   {
    "duration": 294,
    "start_time": "2025-01-18T01:16:58.751Z"
   },
   {
    "duration": 2,
    "start_time": "2025-01-18T01:16:59.049Z"
   },
   {
    "duration": 279,
    "start_time": "2025-01-18T01:16:59.052Z"
   },
   {
    "duration": 12,
    "start_time": "2025-01-18T01:16:59.333Z"
   },
   {
    "duration": 16,
    "start_time": "2025-01-18T01:16:59.346Z"
   },
   {
    "duration": 5,
    "start_time": "2025-01-18T01:16:59.364Z"
   },
   {
    "duration": 4,
    "start_time": "2025-01-18T01:16:59.370Z"
   },
   {
    "duration": 6,
    "start_time": "2025-01-18T01:16:59.375Z"
   },
   {
    "duration": 7,
    "start_time": "2025-01-18T01:16:59.382Z"
   },
   {
    "duration": 203,
    "start_time": "2025-01-18T01:16:59.390Z"
   },
   {
    "duration": 8177,
    "start_time": "2025-01-18T01:16:59.596Z"
   },
   {
    "duration": 1876,
    "start_time": "2025-01-18T01:17:07.775Z"
   },
   {
    "duration": 82,
    "start_time": "2025-01-18T01:17:09.654Z"
   },
   {
    "duration": 1100,
    "start_time": "2025-01-18T01:17:47.991Z"
   },
   {
    "duration": 27,
    "start_time": "2025-01-18T01:17:49.093Z"
   },
   {
    "duration": 9,
    "start_time": "2025-01-18T01:17:49.130Z"
   },
   {
    "duration": 10,
    "start_time": "2025-01-18T01:17:49.141Z"
   },
   {
    "duration": 267,
    "start_time": "2025-01-18T01:17:49.153Z"
   },
   {
    "duration": 166,
    "start_time": "2025-01-18T01:17:49.422Z"
   },
   {
    "duration": 170,
    "start_time": "2025-01-18T01:17:49.590Z"
   },
   {
    "duration": 474,
    "start_time": "2025-01-18T01:17:49.763Z"
   },
   {
    "duration": 256,
    "start_time": "2025-01-18T01:17:50.238Z"
   },
   {
    "duration": 3,
    "start_time": "2025-01-18T01:17:50.495Z"
   },
   {
    "duration": 273,
    "start_time": "2025-01-18T01:17:50.499Z"
   },
   {
    "duration": 11,
    "start_time": "2025-01-18T01:17:50.774Z"
   },
   {
    "duration": 16,
    "start_time": "2025-01-18T01:17:50.787Z"
   },
   {
    "duration": 25,
    "start_time": "2025-01-18T01:17:50.806Z"
   },
   {
    "duration": 3,
    "start_time": "2025-01-18T01:17:50.833Z"
   },
   {
    "duration": 5,
    "start_time": "2025-01-18T01:17:50.838Z"
   },
   {
    "duration": 7,
    "start_time": "2025-01-18T01:17:50.844Z"
   },
   {
    "duration": 181,
    "start_time": "2025-01-18T01:17:50.853Z"
   },
   {
    "duration": 9095,
    "start_time": "2025-01-18T01:17:51.036Z"
   },
   {
    "duration": 2100,
    "start_time": "2025-01-18T01:18:00.133Z"
   },
   {
    "duration": 5,
    "start_time": "2025-01-18T01:18:02.235Z"
   },
   {
    "duration": 355,
    "start_time": "2025-01-18T01:21:00.915Z"
   },
   {
    "duration": 1125,
    "start_time": "2025-01-18T01:22:19.562Z"
   },
   {
    "duration": 28,
    "start_time": "2025-01-18T01:22:20.689Z"
   },
   {
    "duration": 18,
    "start_time": "2025-01-18T01:22:20.718Z"
   },
   {
    "duration": 11,
    "start_time": "2025-01-18T01:22:20.739Z"
   },
   {
    "duration": 241,
    "start_time": "2025-01-18T01:22:20.751Z"
   },
   {
    "duration": 171,
    "start_time": "2025-01-18T01:22:20.993Z"
   },
   {
    "duration": 180,
    "start_time": "2025-01-18T01:22:21.166Z"
   },
   {
    "duration": 404,
    "start_time": "2025-01-18T01:22:21.348Z"
   },
   {
    "duration": 299,
    "start_time": "2025-01-18T01:22:21.754Z"
   },
   {
    "duration": 3,
    "start_time": "2025-01-18T01:22:22.056Z"
   },
   {
    "duration": 588,
    "start_time": "2025-01-18T01:22:22.060Z"
   },
   {
    "duration": 13,
    "start_time": "2025-01-18T01:22:22.650Z"
   },
   {
    "duration": 67,
    "start_time": "2025-01-18T01:22:22.665Z"
   },
   {
    "duration": 6,
    "start_time": "2025-01-18T01:22:22.734Z"
   },
   {
    "duration": 4,
    "start_time": "2025-01-18T01:22:22.741Z"
   },
   {
    "duration": 6,
    "start_time": "2025-01-18T01:22:22.748Z"
   },
   {
    "duration": 8,
    "start_time": "2025-01-18T01:22:22.756Z"
   },
   {
    "duration": 9535,
    "start_time": "2025-01-18T01:22:22.765Z"
   },
   {
    "duration": 1937,
    "start_time": "2025-01-18T01:22:32.301Z"
   },
   {
    "duration": 1131,
    "start_time": "2025-01-18T01:23:18.445Z"
   },
   {
    "duration": 26,
    "start_time": "2025-01-18T01:23:19.578Z"
   },
   {
    "duration": 8,
    "start_time": "2025-01-18T01:23:19.605Z"
   },
   {
    "duration": 25,
    "start_time": "2025-01-18T01:23:19.616Z"
   },
   {
    "duration": 250,
    "start_time": "2025-01-18T01:23:19.642Z"
   },
   {
    "duration": 170,
    "start_time": "2025-01-18T01:23:19.893Z"
   },
   {
    "duration": 178,
    "start_time": "2025-01-18T01:23:20.065Z"
   },
   {
    "duration": 396,
    "start_time": "2025-01-18T01:23:20.245Z"
   },
   {
    "duration": 269,
    "start_time": "2025-01-18T01:23:20.642Z"
   },
   {
    "duration": 3,
    "start_time": "2025-01-18T01:23:20.913Z"
   },
   {
    "duration": 273,
    "start_time": "2025-01-18T01:23:20.918Z"
   },
   {
    "duration": 12,
    "start_time": "2025-01-18T01:23:21.193Z"
   },
   {
    "duration": 30,
    "start_time": "2025-01-18T01:23:21.207Z"
   },
   {
    "duration": 5,
    "start_time": "2025-01-18T01:23:21.240Z"
   },
   {
    "duration": 4,
    "start_time": "2025-01-18T01:23:21.247Z"
   },
   {
    "duration": 6,
    "start_time": "2025-01-18T01:23:21.252Z"
   },
   {
    "duration": 7,
    "start_time": "2025-01-18T01:23:21.260Z"
   },
   {
    "duration": 10301,
    "start_time": "2025-01-18T01:23:21.269Z"
   },
   {
    "duration": 1964,
    "start_time": "2025-01-18T01:23:31.573Z"
   },
   {
    "duration": 1148,
    "start_time": "2025-01-18T01:24:09.639Z"
   },
   {
    "duration": 26,
    "start_time": "2025-01-18T01:24:10.789Z"
   },
   {
    "duration": 16,
    "start_time": "2025-01-18T01:24:10.817Z"
   },
   {
    "duration": 11,
    "start_time": "2025-01-18T01:24:10.835Z"
   },
   {
    "duration": 240,
    "start_time": "2025-01-18T01:24:10.848Z"
   },
   {
    "duration": 171,
    "start_time": "2025-01-18T01:24:11.090Z"
   },
   {
    "duration": 185,
    "start_time": "2025-01-18T01:24:11.262Z"
   },
   {
    "duration": 405,
    "start_time": "2025-01-18T01:24:11.448Z"
   },
   {
    "duration": 319,
    "start_time": "2025-01-18T01:24:11.855Z"
   },
   {
    "duration": 56,
    "start_time": "2025-01-18T01:24:12.176Z"
   },
   {
    "duration": 536,
    "start_time": "2025-01-18T01:24:12.233Z"
   },
   {
    "duration": 62,
    "start_time": "2025-01-18T01:24:12.770Z"
   },
   {
    "duration": 11,
    "start_time": "2025-01-18T01:24:12.834Z"
   },
   {
    "duration": 5,
    "start_time": "2025-01-18T01:24:12.848Z"
   },
   {
    "duration": 3,
    "start_time": "2025-01-18T01:24:12.855Z"
   },
   {
    "duration": 5,
    "start_time": "2025-01-18T01:24:12.860Z"
   },
   {
    "duration": 8,
    "start_time": "2025-01-18T01:24:12.867Z"
   },
   {
    "duration": 5514,
    "start_time": "2025-01-18T01:24:12.877Z"
   },
   {
    "duration": 1651,
    "start_time": "2025-01-18T01:24:18.394Z"
   },
   {
    "duration": 1118,
    "start_time": "2025-01-18T01:24:47.943Z"
   },
   {
    "duration": 25,
    "start_time": "2025-01-18T01:24:49.063Z"
   },
   {
    "duration": 8,
    "start_time": "2025-01-18T01:24:49.090Z"
   },
   {
    "duration": 11,
    "start_time": "2025-01-18T01:24:49.100Z"
   },
   {
    "duration": 239,
    "start_time": "2025-01-18T01:24:49.113Z"
   },
   {
    "duration": 168,
    "start_time": "2025-01-18T01:24:49.354Z"
   },
   {
    "duration": 169,
    "start_time": "2025-01-18T01:24:49.524Z"
   },
   {
    "duration": 448,
    "start_time": "2025-01-18T01:24:49.695Z"
   },
   {
    "duration": 283,
    "start_time": "2025-01-18T01:24:50.145Z"
   },
   {
    "duration": 4,
    "start_time": "2025-01-18T01:24:50.434Z"
   },
   {
    "duration": 285,
    "start_time": "2025-01-18T01:24:50.440Z"
   },
   {
    "duration": 13,
    "start_time": "2025-01-18T01:24:50.727Z"
   },
   {
    "duration": 16,
    "start_time": "2025-01-18T01:24:50.741Z"
   },
   {
    "duration": 6,
    "start_time": "2025-01-18T01:24:50.759Z"
   },
   {
    "duration": 3,
    "start_time": "2025-01-18T01:24:50.767Z"
   },
   {
    "duration": 5,
    "start_time": "2025-01-18T01:24:50.772Z"
   },
   {
    "duration": 7,
    "start_time": "2025-01-18T01:24:50.779Z"
   },
   {
    "duration": 9186,
    "start_time": "2025-01-18T01:24:50.788Z"
   },
   {
    "duration": 1871,
    "start_time": "2025-01-18T01:24:59.976Z"
   },
   {
    "duration": 1299,
    "start_time": "2025-01-18T01:27:25.237Z"
   },
   {
    "duration": 93,
    "start_time": "2025-01-18T01:27:26.538Z"
   },
   {
    "duration": 12,
    "start_time": "2025-01-18T01:27:26.633Z"
   },
   {
    "duration": 13,
    "start_time": "2025-01-18T01:27:26.654Z"
   },
   {
    "duration": 522,
    "start_time": "2025-01-18T01:27:26.670Z"
   },
   {
    "duration": 227,
    "start_time": "2025-01-18T01:27:27.194Z"
   },
   {
    "duration": 230,
    "start_time": "2025-01-18T01:27:27.431Z"
   },
   {
    "duration": 701,
    "start_time": "2025-01-18T01:27:27.665Z"
   },
   {
    "duration": 261,
    "start_time": "2025-01-18T01:27:28.433Z"
   },
   {
    "duration": 2,
    "start_time": "2025-01-18T01:27:28.696Z"
   },
   {
    "duration": 290,
    "start_time": "2025-01-18T01:27:28.700Z"
   },
   {
    "duration": 12,
    "start_time": "2025-01-18T01:27:28.992Z"
   },
   {
    "duration": 34,
    "start_time": "2025-01-18T01:27:29.006Z"
   },
   {
    "duration": 6,
    "start_time": "2025-01-18T01:27:29.043Z"
   },
   {
    "duration": 4,
    "start_time": "2025-01-18T01:27:29.051Z"
   },
   {
    "duration": 5,
    "start_time": "2025-01-18T01:27:29.056Z"
   },
   {
    "duration": 7,
    "start_time": "2025-01-18T01:27:29.063Z"
   },
   {
    "duration": 8289,
    "start_time": "2025-01-18T01:27:29.073Z"
   },
   {
    "duration": 2074,
    "start_time": "2025-01-18T01:27:37.363Z"
   },
   {
    "duration": 1064,
    "start_time": "2025-01-18T01:39:17.115Z"
   },
   {
    "duration": 28,
    "start_time": "2025-01-18T01:39:18.181Z"
   },
   {
    "duration": 7,
    "start_time": "2025-01-18T01:39:18.211Z"
   },
   {
    "duration": 13,
    "start_time": "2025-01-18T01:39:18.232Z"
   },
   {
    "duration": 239,
    "start_time": "2025-01-18T01:39:18.246Z"
   },
   {
    "duration": 173,
    "start_time": "2025-01-18T01:39:18.488Z"
   },
   {
    "duration": 185,
    "start_time": "2025-01-18T01:39:18.663Z"
   },
   {
    "duration": 486,
    "start_time": "2025-01-18T01:39:18.851Z"
   },
   {
    "duration": 261,
    "start_time": "2025-01-18T01:39:19.338Z"
   },
   {
    "duration": 3,
    "start_time": "2025-01-18T01:39:19.602Z"
   },
   {
    "duration": 314,
    "start_time": "2025-01-18T01:39:19.607Z"
   },
   {
    "duration": 16,
    "start_time": "2025-01-18T01:39:19.923Z"
   },
   {
    "duration": 17,
    "start_time": "2025-01-18T01:39:19.941Z"
   },
   {
    "duration": 6,
    "start_time": "2025-01-18T01:39:19.961Z"
   },
   {
    "duration": 3,
    "start_time": "2025-01-18T01:39:19.968Z"
   },
   {
    "duration": 6,
    "start_time": "2025-01-18T01:39:19.973Z"
   },
   {
    "duration": 7,
    "start_time": "2025-01-18T01:39:19.982Z"
   },
   {
    "duration": 9130,
    "start_time": "2025-01-18T01:39:19.991Z"
   },
   {
    "duration": 1827,
    "start_time": "2025-01-18T01:39:29.123Z"
   },
   {
    "duration": 1071,
    "start_time": "2025-01-18T01:39:49.908Z"
   },
   {
    "duration": 26,
    "start_time": "2025-01-18T01:39:50.981Z"
   },
   {
    "duration": 7,
    "start_time": "2025-01-18T01:39:51.010Z"
   },
   {
    "duration": 22,
    "start_time": "2025-01-18T01:39:51.019Z"
   },
   {
    "duration": 241,
    "start_time": "2025-01-18T01:39:51.044Z"
   },
   {
    "duration": 172,
    "start_time": "2025-01-18T01:39:51.287Z"
   },
   {
    "duration": 182,
    "start_time": "2025-01-18T01:39:51.461Z"
   },
   {
    "duration": 489,
    "start_time": "2025-01-18T01:39:51.645Z"
   },
   {
    "duration": 246,
    "start_time": "2025-01-18T01:39:52.136Z"
   },
   {
    "duration": 3,
    "start_time": "2025-01-18T01:39:52.384Z"
   },
   {
    "duration": 308,
    "start_time": "2025-01-18T01:39:52.389Z"
   },
   {
    "duration": 12,
    "start_time": "2025-01-18T01:39:52.699Z"
   },
   {
    "duration": 31,
    "start_time": "2025-01-18T01:39:52.713Z"
   },
   {
    "duration": 5,
    "start_time": "2025-01-18T01:39:52.748Z"
   },
   {
    "duration": 3,
    "start_time": "2025-01-18T01:39:52.755Z"
   },
   {
    "duration": 5,
    "start_time": "2025-01-18T01:39:52.760Z"
   },
   {
    "duration": 7,
    "start_time": "2025-01-18T01:39:52.767Z"
   },
   {
    "duration": 8816,
    "start_time": "2025-01-18T01:39:52.776Z"
   },
   {
    "duration": 1952,
    "start_time": "2025-01-18T01:40:01.594Z"
   },
   {
    "duration": 1102,
    "start_time": "2025-01-18T01:41:10.074Z"
   },
   {
    "duration": 27,
    "start_time": "2025-01-18T01:41:11.179Z"
   },
   {
    "duration": 11,
    "start_time": "2025-01-18T01:41:11.208Z"
   },
   {
    "duration": 13,
    "start_time": "2025-01-18T01:41:11.232Z"
   },
   {
    "duration": 210,
    "start_time": "2025-01-18T01:41:11.247Z"
   },
   {
    "duration": 1006,
    "start_time": "2025-01-18T01:41:11.459Z"
   },
   {
    "duration": 0,
    "start_time": "2025-01-18T01:41:12.467Z"
   },
   {
    "duration": 0,
    "start_time": "2025-01-18T01:41:12.468Z"
   },
   {
    "duration": 0,
    "start_time": "2025-01-18T01:41:12.469Z"
   },
   {
    "duration": 0,
    "start_time": "2025-01-18T01:41:12.471Z"
   },
   {
    "duration": 0,
    "start_time": "2025-01-18T01:41:12.472Z"
   },
   {
    "duration": 0,
    "start_time": "2025-01-18T01:41:12.473Z"
   },
   {
    "duration": 0,
    "start_time": "2025-01-18T01:41:12.475Z"
   },
   {
    "duration": 0,
    "start_time": "2025-01-18T01:41:12.477Z"
   },
   {
    "duration": 0,
    "start_time": "2025-01-18T01:41:12.478Z"
   },
   {
    "duration": 0,
    "start_time": "2025-01-18T01:41:12.480Z"
   },
   {
    "duration": 0,
    "start_time": "2025-01-18T01:41:12.481Z"
   },
   {
    "duration": 0,
    "start_time": "2025-01-18T01:41:12.483Z"
   },
   {
    "duration": 0,
    "start_time": "2025-01-18T01:41:12.484Z"
   },
   {
    "duration": 198,
    "start_time": "2025-01-18T01:41:36.026Z"
   },
   {
    "duration": 196,
    "start_time": "2025-01-18T01:41:43.956Z"
   },
   {
    "duration": 179,
    "start_time": "2025-01-18T01:41:53.510Z"
   },
   {
    "duration": 1079,
    "start_time": "2025-01-18T01:42:07.120Z"
   },
   {
    "duration": 26,
    "start_time": "2025-01-18T01:42:08.202Z"
   },
   {
    "duration": 8,
    "start_time": "2025-01-18T01:42:08.231Z"
   },
   {
    "duration": 14,
    "start_time": "2025-01-18T01:42:08.241Z"
   },
   {
    "duration": 220,
    "start_time": "2025-01-18T01:42:08.257Z"
   },
   {
    "duration": 209,
    "start_time": "2025-01-18T01:42:08.479Z"
   },
   {
    "duration": 183,
    "start_time": "2025-01-18T01:42:08.690Z"
   },
   {
    "duration": 457,
    "start_time": "2025-01-18T01:42:08.875Z"
   },
   {
    "duration": 256,
    "start_time": "2025-01-18T01:42:09.334Z"
   },
   {
    "duration": 3,
    "start_time": "2025-01-18T01:42:09.592Z"
   },
   {
    "duration": 292,
    "start_time": "2025-01-18T01:42:09.596Z"
   },
   {
    "duration": 11,
    "start_time": "2025-01-18T01:42:09.890Z"
   },
   {
    "duration": 29,
    "start_time": "2025-01-18T01:42:09.903Z"
   },
   {
    "duration": 6,
    "start_time": "2025-01-18T01:42:09.936Z"
   },
   {
    "duration": 4,
    "start_time": "2025-01-18T01:42:09.943Z"
   },
   {
    "duration": 5,
    "start_time": "2025-01-18T01:42:09.949Z"
   },
   {
    "duration": 7,
    "start_time": "2025-01-18T01:42:09.957Z"
   },
   {
    "duration": 8878,
    "start_time": "2025-01-18T01:42:09.966Z"
   },
   {
    "duration": 1883,
    "start_time": "2025-01-18T01:42:18.848Z"
   }
  ],
  "kernelspec": {
   "display_name": "Python 3 (ipykernel)",
   "language": "python",
   "name": "python3"
  },
  "language_info": {
   "codemirror_mode": {
    "name": "ipython",
    "version": 3
   },
   "file_extension": ".py",
   "mimetype": "text/x-python",
   "name": "python",
   "nbconvert_exporter": "python",
   "pygments_lexer": "ipython3",
   "version": "3.9.19"
  },
  "toc": {
   "base_numbering": 1,
   "nav_menu": {},
   "number_sections": true,
   "sideBar": true,
   "skip_h1_title": true,
   "title_cell": "Table of Contents",
   "title_sidebar": "Contents",
   "toc_cell": false,
   "toc_position": {
    "height": "calc(100% - 180px)",
    "left": "10px",
    "top": "150px",
    "width": "165px"
   },
   "toc_section_display": true,
   "toc_window_display": true
  }
 },
 "nbformat": 4,
 "nbformat_minor": 2
}
